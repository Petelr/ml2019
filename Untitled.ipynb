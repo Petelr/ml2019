{
 "cells": [
  {
   "cell_type": "code",
   "execution_count": 7,
   "metadata": {},
   "outputs": [
    {
     "name": "stdout",
     "output_type": "stream",
     "text": [
      "0.0\n",
      "1.0\n",
      "4.01388699403801\n",
      "9.049573583709131\n",
      "16.1112888009075\n",
      "25.201991380485754\n",
      "36.323965709240035\n",
      "49.4790747985384\n",
      "64.66889257515287\n",
      "81.89478204696613\n",
      "101.15794542598982\n",
      "122.45945822725021\n",
      "145.80029353220127\n",
      "171.18133987508287\n",
      "198.6034148108872\n",
      "228.0672754537091\n",
      "259.5736268262474\n",
      "293.12312858815346\n",
      "328.7164005378949\n",
      "366.35402716947533\n",
      "406.03656148898745\n",
      "447.76452824322126\n",
      "491.5384266753007\n",
      "537.3587328955098\n",
      "585.225901935827\n",
      "0.00020117872556381678\n"
     ]
    }
   ],
   "source": [
    "b = 2.005\n",
    "sum = 0\n",
    "for i in range(25):\n",
    "    print(i**b)\n",
    "    sum = sum + i**b\n",
    "\n",
    "print(1/sum)    "
   ]
  },
  {
   "cell_type": "code",
   "execution_count": 13,
   "metadata": {},
   "outputs": [
    {
     "name": "stdout",
     "output_type": "stream",
     "text": [
      "0.00020117872556381678\n",
      "0.0004033633447554526\n",
      "0.0020248940747559906\n",
      "0.008543488147626404\n",
      "0.03474839928541728\n",
      "0.14009279718211506\n",
      "0.5635799103367874\n",
      "2.266008692396399\n",
      "9.109814956995589\n",
      "36.62208723584095\n",
      "147.22210960360627\n",
      "591.8369645225819\n",
      "2379.1997966682366\n"
     ]
    },
    {
     "data": {
      "text/plain": [
       "2379.1997966682366"
      ]
     },
     "execution_count": 13,
     "metadata": {},
     "output_type": "execute_result"
    }
   ],
   "source": [
    "A = 1/sum\n",
    "print(A)\n",
    "r=0\n",
    "for i in range(25):\n",
    "    if(i%2==1):\n",
    "        r = r + A*(b**i)\n",
    "        print(r)\n",
    "r"
   ]
  },
  {
   "cell_type": "code",
   "execution_count": 14,
   "metadata": {},
   "outputs": [],
   "source": [
    "from scipy.stats import rv_discrete"
   ]
  },
  {
   "cell_type": "code",
   "execution_count": null,
   "metadata": {},
   "outputs": [],
   "source": []
  }
 ],
 "metadata": {
  "kernelspec": {
   "display_name": "Python 3",
   "language": "python",
   "name": "python3"
  },
  "language_info": {
   "codemirror_mode": {
    "name": "ipython",
    "version": 3
   },
   "file_extension": ".py",
   "mimetype": "text/x-python",
   "name": "python",
   "nbconvert_exporter": "python",
   "pygments_lexer": "ipython3",
   "version": "3.7.1"
  }
 },
 "nbformat": 4,
 "nbformat_minor": 2
}
