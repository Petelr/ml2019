{
 "cells": [
  {
   "cell_type": "code",
   "execution_count": 1,
   "metadata": {},
   "outputs": [
    {
     "name": "stdout",
     "output_type": "stream",
     "text": [
      "Tolerance = 1.3879775111511776\n",
      "Tolerance = 0.2475124337047987\n",
      "Tolerance = 0.06537485299713808\n",
      "Tolerance = 0.0027990271644853237\n",
      "Tolerance = 0.00012515434826809724\n"
     ]
    }
   ],
   "source": [
    "from numpy import array, diag, dot, maximum, empty, repeat, ones, sum\n",
    "from numpy.linalg import inv\n",
    "\n",
    "def IRLS(y, X, maxiter, w_init = 1, d = 0.0001, tolerance = 0.001):\n",
    "\tn,p = X.shape\n",
    "\tdelta = array( repeat(d, n) ).reshape(1,n)\n",
    "\tw = repeat(1, n)\n",
    "\tW = diag( w )\n",
    "\tB = dot( inv( X.T.dot(W).dot(X) ), \n",
    "\t\t\t ( X.T.dot(W).dot(y) ) )\n",
    "\tfor _ in range(maxiter):\n",
    "\t\t_B = B\n",
    "\t\t_w = abs(y - X.dot(B)).T\n",
    "\t\tw = float(1)/maximum( delta, _w )\n",
    "\t\tW = diag( w[0] )\n",
    "\t\tB = dot( inv( X.T.dot(W).dot(X) ), \n",
    "\t\t\t\t ( X.T.dot(W).dot(y) ) )\n",
    "\t\ttol = sum( abs( B - _B ) ) \n",
    "\t\tprint(\"Tolerance = %s\" % tol)\n",
    "\t\tif tol < tolerance:\n",
    "\t\t\treturn B\n",
    "\treturn B\n",
    "\n",
    "\n",
    "#Test Example: Fit the following data under Least Absolute Deviations regression\n",
    "# first line = \"p n\" where p is the number of predictors and n number of observations\n",
    "# following lines are the data lines for predictor x and response variable y\n",
    "#\t \"<pred_1> ... <pred_p> y\"\n",
    "# next line win \"n\" gives the number n of test cases to expect\n",
    "# following lines are the test cases with predictors and expected response\n",
    "\n",
    "input_str = '''2 7\n",
    "0.18 0.89 109.85\n",
    "1.0 0.26 155.72\n",
    "0.92 0.11 137.66\n",
    "0.07 0.37 76.17\n",
    "0.85 0.16 139.75\n",
    "0.99 0.41 162.6\n",
    "0.87 0.47 151.77\n",
    "4\n",
    "0.49 0.18 105.22\n",
    "0.57 0.83 142.68\n",
    "0.56 0.64 132.94\n",
    "0.76 0.18 129.71\n",
    "'''\n",
    "\n",
    "input_list = input_str.split('\\n')\n",
    "\n",
    "p,n = [ int(i) for i in input_list.pop(0).split() ]\n",
    "X = empty( [n, p+1] )\n",
    "X[:,0] = repeat( 1, n)\n",
    "y = empty( [n, 1] )\n",
    "for i in range(n):\n",
    "\tl = [ float(i) for i in input_list.pop(0).split() ]\n",
    "\tX[i, 1:] = array( l[0:p] )\n",
    "\ty[i] = array( l[p] )\n",
    "\n",
    "n = [ int(i) for i in input_list.pop(0).split() ][0]\n",
    "X_new = empty( [n, p+1] )\n",
    "X_new[:,0] = repeat( 1, n)\n",
    "y_new = empty( [n, 1] )\n",
    "for i in range(n):\n",
    "\tl = [ float(i) for i in input_list.pop(0).split() ]\n",
    "\tX_new[i, 1:] = array( l[0:p] )\n",
    "\ty_new[i] = array( l[p] )\n",
    "\n",
    "\n",
    "B = IRLS(y=y,X=X, maxiter=20)\n",
    "abs_error = abs( y_new - X_new.dot(B) )"
   ]
  },
  {
   "cell_type": "code",
   "execution_count": null,
   "metadata": {},
   "outputs": [],
   "source": []
  }
 ],
 "metadata": {
  "kernelspec": {
   "display_name": "Python 3",
   "language": "python",
   "name": "python3"
  },
  "language_info": {
   "codemirror_mode": {
    "name": "ipython",
    "version": 3
   },
   "file_extension": ".py",
   "mimetype": "text/x-python",
   "name": "python",
   "nbconvert_exporter": "python",
   "pygments_lexer": "ipython3",
   "version": "3.6.3"
  }
 },
 "nbformat": 4,
 "nbformat_minor": 2
}
