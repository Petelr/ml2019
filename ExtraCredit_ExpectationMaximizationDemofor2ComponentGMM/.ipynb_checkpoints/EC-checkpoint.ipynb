{
 "cells": [
  {
   "cell_type": "markdown",
   "metadata": {},
   "source": [
    "# Extra Credit: Expectation Maximization Demo for 2 Component GMM"
   ]
  },
  {
   "cell_type": "markdown",
   "metadata": {},
   "source": [
    "This is an OPTIONAL extra credit assignment worth 10 points. Any points earned on this assignment will be applied to one of your exam grades, excluding the final exam (Exam 1 and Exam 2 only).\n",
    "\n",
    "Assignment\n",
    "\n",
    "Recreate the demo video showed in class on 4/17, or show iterated frames from the simulation. The video is also in the slides from class as well as posted under the respective module on the Modules page.\n",
    "\n",
    "Generate synthetic data drawn from 2 independent Gaussian distributions with non-circular covariance matrices and means at least 5 units apart (for easy convergence).\n",
    "Apply the EM algorithm to fit a 2-component GMM to the data.\n",
    "Record the iterations either in a video or in successive plots showing the data and the contour plots of the individual Gaussian models at each iteration.\n",
    "Also show the \"ground-truth\" means and covariances you defined in step 1, as well as the estimates the EM algorithm converged to. A table might be the best way to show this.\n",
    "Your deliverables are:\n",
    "\n",
    "Either a video or a series of plots showing successive iterations of the algorithm.\n",
    "A comparison of the ground-truth means/covariances and the estimated means/covariances.\n",
    "Your code.\n",
    "You may not use built in GMM or EM functions for this assignment."
   ]
  },
  {
   "cell_type": "code",
   "execution_count": null,
   "metadata": {},
   "outputs": [],
   "source": [
    "#### Given parameters\n",
    "mean1 = np.array([1,1])\n",
    "mean2 = np.array([-1,-1])\n",
    "cov1  = np.array([[3,2],[2,3]])\n",
    "cov2  = np.array([[2,-1],[-1,2]])"
   ]
  }
 ],
 "metadata": {
  "kernelspec": {
   "display_name": "Python 3",
   "language": "python",
   "name": "python3"
  },
  "language_info": {
   "codemirror_mode": {
    "name": "ipython",
    "version": 3
   },
   "file_extension": ".py",
   "mimetype": "text/x-python",
   "name": "python",
   "nbconvert_exporter": "python",
   "pygments_lexer": "ipython3",
   "version": "3.7.2"
  }
 },
 "nbformat": 4,
 "nbformat_minor": 2
}
