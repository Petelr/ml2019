{
 "cells": [
  {
   "cell_type": "markdown",
   "metadata": {},
   "source": [
    "# Extra Credit: Expectation Maximization Demo for 2 Component GMM"
   ]
  },
  {
   "cell_type": "markdown",
   "metadata": {},
   "source": [
    "This is an OPTIONAL extra credit assignment worth 10 points. Any points earned on this assignment will be applied to one of your exam grades, excluding the final exam (Exam 1 and Exam 2 only).\n",
    "\n",
    "Assignment\n",
    "\n",
    "Recreate the demo video showed in class on 4/17, or show iterated frames from the simulation. The video is also in the slides from class as well as posted under the respective module on the Modules page.\n",
    "\n",
    "Generate synthetic data drawn from 2 independent Gaussian distributions with non-circular covariance matrices and means at least 5 units apart (for easy convergence).\n",
    "Apply the EM algorithm to fit a 2-component GMM to the data.\n",
    "Record the iterations either in a video or in successive plots showing the data and the contour plots of the individual Gaussian models at each iteration.\n",
    "Also show the \"ground-truth\" means and covariances you defined in step 1, as well as the estimates the EM algorithm converged to. A table might be the best way to show this.\n",
    "Your deliverables are:\n",
    "\n",
    "Either a video or a series of plots showing successive iterations of the algorithm.\n",
    "A comparison of the ground-truth means/covariances and the estimated means/covariances.\n",
    "Your code.\n",
    "You may not use built in GMM or EM functions for this assignment."
   ]
  },
  {
   "cell_type": "code",
   "execution_count": 47,
   "metadata": {},
   "outputs": [],
   "source": [
    "import numpy as np\n",
    "import matplotlib.pyplot as plt\n",
    "import random\n",
    "import math\n",
    "import scipy.stats as ss\n",
    "\n",
    "#### Given parameters\n",
    "mean1 = np.array([5,4])\n",
    "mean2 = np.array([-4,-2])\n",
    "cov1  = np.array([[3,2],[2,3]])\n",
    "cov2  = np.array([[2,-1],[-1,2]])\n",
    "\n",
    "# Generating Training and Testing Data\n",
    "# Creating a class for the dataset\n",
    "class Data_set:\n",
    "    def __init__(self, mean, cov):\n",
    "        self.mean = mean\n",
    "        self.cov  = cov\n",
    "    \n",
    "    def split_data(self):\n",
    "        np.random.shuffle(self.data)\n",
    "        self.train = self.data[:len(self.data)//2]\n",
    "        self.test  = self.data[len(self.data)//2:]\n",
    "        \n",
    "        return self\n",
    "    \n",
    "    def multivariate_normal(self, num):\n",
    "        # asself.data.shape = num *  2\n",
    "        self.data = np.random.multivariate_normal(self.mean,self.cov,size=num)\n",
    "    \n",
    "        return self\n"
   ]
  },
  {
   "cell_type": "code",
   "execution_count": 60,
   "metadata": {},
   "outputs": [
    {
     "data": {
      "text/plain": [
       "array([4.16288232, 4.62813026])"
      ]
     },
     "execution_count": 60,
     "metadata": {},
     "output_type": "execute_result"
    }
   ],
   "source": [
    "# scipy.stats.norm(mean1, cov1**(0.5)).cdf(0)\n",
    "np.random.multivariate_normal(mean1,cov1)"
   ]
  },
  {
   "cell_type": "code",
   "execution_count": 28,
   "metadata": {},
   "outputs": [
    {
     "data": {
      "text/plain": [
       "<__main__.Data_set at 0x7fbcf5a9ecc0>"
      ]
     },
     "execution_count": 28,
     "metadata": {},
     "output_type": "execute_result"
    }
   ],
   "source": [
    "# Generating Data sets\n",
    "c1 = Data_set(mean1, cov1)\n",
    "c2 = Data_set(mean2, cov2)\n",
    "\n",
    "c1.multivariate_normal(200)\n",
    "c2.multivariate_normal(200)"
   ]
  },
  {
   "cell_type": "code",
   "execution_count": 29,
   "metadata": {},
   "outputs": [
    {
     "data": {
      "image/png": "[encoded data removed]",
      "text/plain": [
       "<Figure size 432x288 with 1 Axes>"
      ]
     },
     "metadata": {
      "needs_background": "light"
     },
     "output_type": "display_data"
    }
   ],
   "source": [
    "# Ploting synthetic data\n",
    "f1 = plt.figure(1)\n",
    "p1 = f1.add_subplot(111)\n",
    "p1.scatter(c1.data[:,0],c1.data[:,1], label='Class 1')\n",
    "p1.scatter(c2.data[:,0],c2.data[:,1], label='Class 2')\n",
    "p1.legend()\n",
    "p1.set_title(\"Fig 1. Generated Synthetic Data.\")\n",
    "plt.show()"
   ]
  },
  {
   "cell_type": "code",
   "execution_count": 33,
   "metadata": {},
   "outputs": [],
   "source": [
    "all_data = np.vstack((c1.data, c2.data))\n",
    "np.random.shuffle(all_data)"
   ]
  },
  {
   "cell_type": "code",
   "execution_count": 41,
   "metadata": {},
   "outputs": [
    {
     "data": {
      "text/plain": [
       "array([[21.9281847 , 13.3702926 ],\n",
       "       [13.3702926 , 11.10637813]])"
      ]
     },
     "execution_count": 41,
     "metadata": {},
     "output_type": "execute_result"
    }
   ],
   "source": [
    "np.cov(all_data.T)"
   ]
  },
  {
   "cell_type": "code",
   "execution_count": 89,
   "metadata": {},
   "outputs": [],
   "source": [
    "def Expectation_Max(data):\n",
    "    # Step 1: Initial Guess\n",
    "    # - choose random values for means\n",
    "    # - set covariance to overall covariance\n",
    "    _mean1 = random.choice(data)\n",
    "    _mean2 = random.choice(data)\n",
    "    _cov1  = np.cov(data.T)\n",
    "    _cov2  = np.cov(data.T)\n",
    "    _pi    = 0.5\n",
    "    \n",
    "    \n",
    "    while(1):\n",
    "        \n",
    "        # Expectation step, calculating responsibility\n",
    "        _gamma = []\n",
    "        _prev_pi = _pi\n",
    "        for sample in data:\n",
    "            _rv1  = ss.multivariate_normal(_mean1, _cov1)\n",
    "            _rv2  = ss.multivariate_normal(_mean2, _cov2)\n",
    "            num   = _pi * _rv2.pdf(sample)\n",
    "            denom = (1 - _pi)*_rv1.pdf(sample) + _pi*_rv2.pdf(sample)\n",
    "            _gamma.append(num/denom)\n",
    "            \n",
    "        _gamma = np.array(_gamma)\n",
    "        # Maximization step, calculating\n",
    "        _mean1 = sum((1-_gamma)*data)/sum(1-_gamma)\n",
    "        _mean2 = sum(_gamma*data)/sum(_gamma)\n",
    "        _cov1  = sum((1-_gamma)*(data-_mean1)**2)/sum(1-_gamma)\n",
    "        _cov2  = sum(_gamma*(data-_mean2)**2)/sum(_gamma)\n",
    "        \n",
    "        _pi    = sum(_gamma/len(data))\n",
    "        \n",
    "        if _pi - _prev_pi < 0.001:\n",
    "            return _mean1, _mean2, _cov1, _cov2"
   ]
  },
  {
   "cell_type": "code",
   "execution_count": 90,
   "metadata": {},
   "outputs": [
    {
     "ename": "ValueError",
     "evalue": "operands could not be broadcast together with shapes (400,) (400,2) ",
     "output_type": "error",
     "traceback": [
      "\u001b[0;31m---------------------------------------------------------------------------\u001b[0m",
      "\u001b[0;31mValueError\u001b[0m                                Traceback (most recent call last)",
      "\u001b[0;32m<ipython-input-90-831dadfe012d>\u001b[0m in \u001b[0;36m<module>\u001b[0;34m\u001b[0m\n\u001b[0;32m----> 1\u001b[0;31m \u001b[0mExpectation_Max\u001b[0m\u001b[0;34m(\u001b[0m\u001b[0mall_data\u001b[0m\u001b[0;34m)\u001b[0m\u001b[0;34m\u001b[0m\u001b[0;34m\u001b[0m\u001b[0m\n\u001b[0m",
      "\u001b[0;32m<ipython-input-89-a3e9d6ac8ae6>\u001b[0m in \u001b[0;36mExpectation_Max\u001b[0;34m(data)\u001b[0m\n\u001b[1;32m     24\u001b[0m         \u001b[0m_gamma\u001b[0m \u001b[0;34m=\u001b[0m \u001b[0mnp\u001b[0m\u001b[0;34m.\u001b[0m\u001b[0marray\u001b[0m\u001b[0;34m(\u001b[0m\u001b[0m_gamma\u001b[0m\u001b[0;34m)\u001b[0m\u001b[0;34m\u001b[0m\u001b[0;34m\u001b[0m\u001b[0m\n\u001b[1;32m     25\u001b[0m         \u001b[0;31m# Maximization step, calculating\u001b[0m\u001b[0;34m\u001b[0m\u001b[0;34m\u001b[0m\u001b[0;34m\u001b[0m\u001b[0m\n\u001b[0;32m---> 26\u001b[0;31m         \u001b[0m_mean1\u001b[0m \u001b[0;34m=\u001b[0m \u001b[0msum\u001b[0m\u001b[0;34m(\u001b[0m\u001b[0;34m(\u001b[0m\u001b[0;36m1\u001b[0m\u001b[0;34m-\u001b[0m\u001b[0m_gamma\u001b[0m\u001b[0;34m)\u001b[0m\u001b[0;34m*\u001b[0m\u001b[0mdata\u001b[0m\u001b[0;34m)\u001b[0m\u001b[0;34m/\u001b[0m\u001b[0msum\u001b[0m\u001b[0;34m(\u001b[0m\u001b[0;36m1\u001b[0m\u001b[0;34m-\u001b[0m\u001b[0m_gamma\u001b[0m\u001b[0;34m)\u001b[0m\u001b[0;34m\u001b[0m\u001b[0;34m\u001b[0m\u001b[0m\n\u001b[0m\u001b[1;32m     27\u001b[0m         \u001b[0m_mean2\u001b[0m \u001b[0;34m=\u001b[0m \u001b[0msum\u001b[0m\u001b[0;34m(\u001b[0m\u001b[0m_gamma\u001b[0m\u001b[0;34m*\u001b[0m\u001b[0mdata\u001b[0m\u001b[0;34m)\u001b[0m\u001b[0;34m/\u001b[0m\u001b[0msum\u001b[0m\u001b[0;34m(\u001b[0m\u001b[0m_gamma\u001b[0m\u001b[0;34m)\u001b[0m\u001b[0;34m\u001b[0m\u001b[0;34m\u001b[0m\u001b[0m\n\u001b[1;32m     28\u001b[0m         \u001b[0m_cov1\u001b[0m  \u001b[0;34m=\u001b[0m \u001b[0msum\u001b[0m\u001b[0;34m(\u001b[0m\u001b[0;34m(\u001b[0m\u001b[0;36m1\u001b[0m\u001b[0;34m-\u001b[0m\u001b[0m_gamma\u001b[0m\u001b[0;34m)\u001b[0m\u001b[0;34m*\u001b[0m\u001b[0;34m(\u001b[0m\u001b[0mdata\u001b[0m\u001b[0;34m-\u001b[0m\u001b[0m_mean1\u001b[0m\u001b[0;34m)\u001b[0m\u001b[0;34m**\u001b[0m\u001b[0;36m2\u001b[0m\u001b[0;34m)\u001b[0m\u001b[0;34m/\u001b[0m\u001b[0msum\u001b[0m\u001b[0;34m(\u001b[0m\u001b[0;36m1\u001b[0m\u001b[0;34m-\u001b[0m\u001b[0m_gamma\u001b[0m\u001b[0;34m)\u001b[0m\u001b[0;34m\u001b[0m\u001b[0;34m\u001b[0m\u001b[0m\n",
      "\u001b[0;31mValueError\u001b[0m: operands could not be broadcast together with shapes (400,) (400,2) "
     ]
    }
   ],
   "source": [
    "Expectation_Max(all_data)"
   ]
  },
  {
   "cell_type": "code",
   "execution_count": 79,
   "metadata": {},
   "outputs": [
    {
     "data": {
      "text/plain": [
       "<matplotlib.contour.QuadContourSet at 0x7fbcec90fa58>"
      ]
     },
     "execution_count": 79,
     "metadata": {},
     "output_type": "execute_result"
    },
    {
     "data": {
      "image/png": "[encoded data removed]",
      "text/plain": [
       "<Figure size 432x288 with 1 Axes>"
      ]
     },
     "metadata": {
      "needs_background": "light"
     },
     "output_type": "display_data"
    }
   ],
   "source": [
    "x, y = np.mgrid[-1:1:.01, -1:1:.01]\n",
    "pos = np.dstack((x, y))\n",
    "rv = ss.multivariate_normal([0.5, -0.2], [[2.0, 0.3], [0.3, 0.5]])\n",
    "fig2 = plt.figure()\n",
    "ax2 = fig2.add_subplot(111)\n",
    "ax2.contourf(x, y, rv.pdf(pos))"
   ]
  },
  {
   "cell_type": "code",
   "execution_count": 81,
   "metadata": {},
   "outputs": [
    {
     "data": {
      "text/plain": [
       "(200, 200, 2)"
      ]
     },
     "execution_count": 81,
     "metadata": {},
     "output_type": "execute_result"
    }
   ],
   "source": [
    "pos.shape"
   ]
  },
  {
   "cell_type": "code",
   "execution_count": 84,
   "metadata": {},
   "outputs": [
    {
     "data": {
      "text/plain": [
       "0.0010421244568597921"
      ]
     },
     "execution_count": 84,
     "metadata": {},
     "output_type": "execute_result"
    }
   ],
   "source": [
    "var = ss.multivariate_normal(mean1, cov1)\n",
    "var.pdf(all_data[9])"
   ]
  },
  {
   "cell_type": "code",
   "execution_count": 86,
   "metadata": {},
   "outputs": [
    {
     "data": {
      "text/plain": [
       "array([[2, 6],\n",
       "       [3, 8],\n",
       "       [0, 4]])"
      ]
     },
     "execution_count": 86,
     "metadata": {},
     "output_type": "execute_result"
    }
   ],
   "source": [
    "a = np.array([1,2])\n",
    "b = np.array([[2,3],[3,4],[0,2]])\n",
    "a*b"
   ]
  },
  {
   "cell_type": "code",
   "execution_count": null,
   "metadata": {},
   "outputs": [],
   "source": []
  }
 ],
 "metadata": {
  "kernelspec": {
   "display_name": "Python 3",
   "language": "python",
   "name": "python3"
  },
  "language_info": {
   "codemirror_mode": {
    "name": "ipython",
    "version": 3
   },
   "file_extension": ".py",
   "mimetype": "text/x-python",
   "name": "python",
   "nbconvert_exporter": "python",
   "pygments_lexer": "ipython3",
   "version": "3.7.2"
  }
 },
 "nbformat": 4,
 "nbformat_minor": 2
}
