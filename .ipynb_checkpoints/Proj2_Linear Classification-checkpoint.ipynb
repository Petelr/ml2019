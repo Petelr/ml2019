{
 "cells": [
  {
   "cell_type": "markdown",
   "metadata": {},
   "source": [
    "# Part 1"
   ]
  },
  {
   "cell_type": "code",
   "execution_count": 38,
   "metadata": {},
   "outputs": [],
   "source": [
    "import numpy as np\n",
    "# Generating Training and Testing Data\n",
    "# Creating a class for the dataset\n",
    "class data_set:\n",
    "    def __init__(self, mean, cov):\n",
    "        self.mean = mean\n",
    "        self.cov  = cov\n",
    "    \n",
    "    def split_data(self):\n",
    "        np.random.shuffle(self.data)\n",
    "        self.train = self.data[:len(self.data)//2]\n",
    "        self.test  = self.data[len(self.data)//2:]\n",
    "    \n",
    "    def multivariate_normal(self, num):\n",
    "        # new.shape = numx2\n",
    "        self.data = np.random.multivariate_normal(self.mean,self.cov,size=num)\n",
    "    \n",
    "        return self.data\n",
    "    \n"
   ]
  },
  {
   "cell_type": "code",
   "execution_count": 40,
   "metadata": {},
   "outputs": [
    {
     "data": {
      "text/plain": [
       "(10, 2)"
      ]
     },
     "execution_count": 40,
     "metadata": {},
     "output_type": "execute_result"
    }
   ],
   "source": [
    "# test block\n",
    "c1 = data_set(mean,cov)\n",
    "c1.multivariate_normal(10)"
   ]
  },
  {
   "cell_type": "code",
   "execution_count": 17,
   "metadata": {},
   "outputs": [],
   "source": [
    "mean = np.array([1,1])\n",
    "cov = np.array([[3,2],[2,3]])\n",
    "data = np.random.multivariate_normal(mean,cov,200)"
   ]
  },
  {
   "cell_type": "code",
   "execution_count": 18,
   "metadata": {},
   "outputs": [
    {
     "data": {
      "text/plain": [
       "(200, 2)"
      ]
     },
     "execution_count": 18,
     "metadata": {},
     "output_type": "execute_result"
    }
   ],
   "source": [
    "data.shape"
   ]
  },
  {
   "cell_type": "code",
   "execution_count": 27,
   "metadata": {},
   "outputs": [
    {
     "data": {
      "text/plain": [
       "(20,)"
      ]
     },
     "execution_count": 27,
     "metadata": {},
     "output_type": "execute_result"
    }
   ],
   "source": [
    "def genfun(num):\n",
    "    temp = []\n",
    "    for i in range(num):\n",
    "        new = np.random.multivariate_normal(mean,cov,size=10)\n",
    "        temp = np.append(temp,new)\n",
    "    return temp\n",
    "genfun(1).shape"
   ]
  },
  {
   "cell_type": "code",
   "execution_count": 64,
   "metadata": {},
   "outputs": [
    {
     "data": {
      "text/plain": [
       "(10, (10, 2), array([[ 1.61473236, -0.82930079],\n",
       "        [-1.66292562, -1.05490034],\n",
       "        [ 1.92655045,  1.03089969],\n",
       "        [ 0.57334879, -0.25666286],\n",
       "        [ 0.6275934 ,  0.99945944],\n",
       "        [ 2.14323895,  1.97538019],\n",
       "        [ 1.83669019,  0.85908903],\n",
       "        [-0.80355204, -0.41270647],\n",
       "        [ 1.09839948,  1.41156032],\n",
       "        [ 2.18118496,  2.13109296]]))"
      ]
     },
     "execution_count": 64,
     "metadata": {},
     "output_type": "execute_result"
    }
   ],
   "source": [
    "a = np.random.multivariate_normal(mean,cov,size=10)\n",
    "len(a),a.shape,a"
   ]
  },
  {
   "cell_type": "code",
   "execution_count": 65,
   "metadata": {},
   "outputs": [
    {
     "data": {
      "text/plain": [
       "array([[ 1.61473236, -0.82930079],\n",
       "       [-1.66292562, -1.05490034],\n",
       "       [ 1.92655045,  1.03089969],\n",
       "       [ 0.57334879, -0.25666286],\n",
       "       [ 0.6275934 ,  0.99945944]])"
      ]
     },
     "execution_count": 65,
     "metadata": {},
     "output_type": "execute_result"
    }
   ],
   "source": [
    "a[:len(a)//2]"
   ]
  },
  {
   "cell_type": "code",
   "execution_count": 62,
   "metadata": {},
   "outputs": [
    {
     "data": {
      "text/plain": [
       "([1, 2, 3, 4, 5, 6], [1, 2, 3], [4, 5, 6])"
      ]
     },
     "execution_count": 62,
     "metadata": {},
     "output_type": "execute_result"
    }
   ],
   "source": [
    "A = [1,2,3,4,5,6]\n",
    "B = A[:len(A)//2]\n",
    "C = A[len(A)//2:]\n",
    "A,B,C"
   ]
  },
  {
   "cell_type": "code",
   "execution_count": null,
   "metadata": {},
   "outputs": [],
   "source": []
  }
 ],
 "metadata": {
  "kernelspec": {
   "display_name": "Python 3",
   "language": "python",
   "name": "python3"
  },
  "language_info": {
   "codemirror_mode": {
    "name": "ipython",
    "version": 3
   },
   "file_extension": ".py",
   "mimetype": "text/x-python",
   "name": "python",
   "nbconvert_exporter": "python",
   "pygments_lexer": "ipython3",
   "version": "3.7.2"
  }
 },
 "nbformat": 4,
 "nbformat_minor": 2
}
