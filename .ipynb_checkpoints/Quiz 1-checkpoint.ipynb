{
 "cells": [
  {
   "cell_type": "markdown",
   "metadata": {},
   "source": [
    "# Problem 1"
   ]
  },
  {
   "cell_type": "code",
   "execution_count": 40,
   "metadata": {},
   "outputs": [
    {
     "name": "stdout",
     "output_type": "stream",
     "text": [
      "The result is 0.34\n"
     ]
    }
   ],
   "source": [
    "disease_rate  = 0.25\n",
    "test_accuracy = 0.82\n",
    "result_1      = disease_rate*test_accuracy + (1-disease_rate)*(1-test_accuracy)\n",
    "print('The result is', result_1)"
   ]
  },
  {
   "cell_type": "markdown",
   "metadata": {},
   "source": [
    "# Problem 2"
   ]
  },
  {
   "cell_type": "code",
   "execution_count": 1,
   "metadata": {},
   "outputs": [
    {
     "name": "stdout",
     "output_type": "stream",
     "text": [
      "The result is 0.013924050632911394\n"
     ]
    }
   ],
   "source": [
    "# bayer's law\n",
    "# P(A|B) = [P(B|A)*P(A)]/P(B)\n",
    "# P('sick'|'test positive') = [P('test positive'|'sick')*P('sick')]/P('test positive')\n",
    "\n",
    "# P('sick')\n",
    "disease_rate  = 0.05\n",
    "test_accuracy = 0.88\n",
    "\n",
    "# P('test positive')\n",
    "positive_rate = disease_rate*test_accuracy + (1-disease_rate)*(1-test_accuracy)\n",
    "\n",
    "# P('test positive'|'sick')\n",
    "sick_positive = disease_rate*test_accuracy\n",
    "\n",
    "result_2      = (sick_positive*disease_rate)/positive_rate\n",
    "print('The result is', result_2)"
   ]
  },
  {
   "cell_type": "code",
   "execution_count": 39,
   "metadata": {},
   "outputs": [
    {
     "data": {
      "text/plain": [
       "0.044000000000000004"
      ]
     },
     "execution_count": 39,
     "metadata": {},
     "output_type": "execute_result"
    }
   ],
   "source": [
    "sick_positive"
   ]
  },
  {
   "cell_type": "markdown",
   "metadata": {},
   "source": [
    "# Problem 3"
   ]
  },
  {
   "cell_type": "code",
   "execution_count": 2,
   "metadata": {},
   "outputs": [
    {
     "name": "stdout",
     "output_type": "stream",
     "text": [
      "The result is 0.37449999999999994\n"
     ]
    }
   ],
   "source": [
    "spam_rate = 0.13\n",
    "spam_in_reg = 0.29\n",
    "spam_in_spam = 0.94\n",
    "result_3 = spam_rate*spam_in_spam + (1-spam_rate)*spam_in_reg\n",
    "print('The result is',result_3)"
   ]
  },
  {
   "cell_type": "markdown",
   "metadata": {},
   "source": [
    "# Problem4"
   ]
  },
  {
   "cell_type": "code",
   "execution_count": null,
   "metadata": {},
   "outputs": [],
   "source": [
    "spam_rate = 0.16\n",
    "spam_in_reg = 0.37\n",
    "spam_in_spam = 0.77\n",
    "# bayer's law\n",
    "# P(A|B) = [P(B|A)*P(A)]/P(B)\n",
    "pa = spam_rate\n",
    "pb = spam_rate*spam_in_spam + (1-spam_rate)*spam_in_reg\n",
    "pba = spam_rate*spam_in_spam\n",
    "result_4 = pba*pa/pb\n",
    "print()"
   ]
  }
 ],
 "metadata": {
  "kernelspec": {
   "display_name": "Python 3",
   "language": "python",
   "name": "python3"
  },
  "language_info": {
   "codemirror_mode": {
    "name": "ipython",
    "version": 3
   },
   "file_extension": ".py",
   "mimetype": "text/x-python",
   "name": "python",
   "nbconvert_exporter": "python",
   "pygments_lexer": "ipython3",
   "version": "3.7.1"
  }
 },
 "nbformat": 4,
 "nbformat_minor": 2
}
