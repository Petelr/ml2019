{
 "cells": [
  {
   "cell_type": "markdown",
   "metadata": {},
   "source": [
    "# Problem 1"
   ]
  },
  {
   "cell_type": "code",
   "execution_count": 67,
   "metadata": {},
   "outputs": [
    {
     "name": "stdout",
     "output_type": "stream",
     "text": [
      "The result is 0.2036\n"
     ]
    }
   ],
   "source": [
    "disease_rate  = 0.11\n",
    "test_accuracy = 0.88\n",
    "result_1      = disease_rate*test_accuracy + (1-disease_rate)*(1-test_accuracy)\n",
    "print('The result is', result_1)"
   ]
  },
  {
   "cell_type": "markdown",
   "metadata": {},
   "source": [
    "# Problem 2"
   ]
  },
  {
   "cell_type": "code",
   "execution_count": 68,
   "metadata": {},
   "outputs": [
    {
     "name": "stdout",
     "output_type": "stream",
     "text": [
      "The result is 0.6691729323308271\n"
     ]
    }
   ],
   "source": [
    "# bayer's law\n",
    "# P(A|B) = [P(B|A)*P(A)]/P(B)\n",
    "# P('sick'|'test positive') = [P('test positive'|'sick')*P('sick')]/P('test positive')\n",
    "\n",
    "# P('sick')\n",
    "disease_rate  = 0.20\n",
    "test_accuracy = 0.89\n",
    "\n",
    "# P('test positive')\n",
    "positive_rate = disease_rate*test_accuracy + (1-disease_rate)*(1-test_accuracy)\n",
    "\n",
    "# P('test positive'|'sick')\n",
    "sick_positive = test_accuracy\n",
    "\n",
    "result_2      = (sick_positive*disease_rate)/positive_rate\n",
    "print('The result is', result_2)"
   ]
  },
  {
   "cell_type": "markdown",
   "metadata": {},
   "source": [
    "# Problem 3"
   ]
  },
  {
   "cell_type": "code",
   "execution_count": 69,
   "metadata": {},
   "outputs": [
    {
     "name": "stdout",
     "output_type": "stream",
     "text": [
      "The result is 0.31590000000000007\n"
     ]
    }
   ],
   "source": [
    "spam_rate = 0.19\n",
    "spam_in_reg = 0.20\n",
    "spam_in_spam = 0.81\n",
    "result_3 = spam_rate*spam_in_spam + (1-spam_rate)*spam_in_reg\n",
    "print('The result is',result_3)"
   ]
  },
  {
   "cell_type": "markdown",
   "metadata": {},
   "source": [
    "# Problem4"
   ]
  },
  {
   "cell_type": "code",
   "execution_count": 70,
   "metadata": {},
   "outputs": [
    {
     "name": "stdout",
     "output_type": "stream",
     "text": [
      "The result is 0.41364544675992\n"
     ]
    }
   ],
   "source": [
    "spam_rate = 0.21\n",
    "spam_in_reg = 0.26\n",
    "spam_in_spam = 0.69\n",
    "# bayer's law\n",
    "# P(A|B) = [P(B|A)*P(A)]/P(B)\n",
    "pa = spam_rate\n",
    "pb = spam_rate*spam_in_spam + (1-spam_rate)*spam_in_reg\n",
    "pba = spam_in_spam\n",
    "result_4 = pba*pa/pb\n",
    "print('The result is',result_4)"
   ]
  },
  {
   "cell_type": "markdown",
   "metadata": {},
   "source": [
    "# Problem 5"
   ]
  },
  {
   "cell_type": "code",
   "execution_count": 73,
   "metadata": {},
   "outputs": [
    {
     "name": "stdout",
     "output_type": "stream",
     "text": [
      "0.19465908813882737\n"
     ]
    }
   ],
   "source": [
    "from scipy.special import comb\n",
    "rain_rate = 0.46\n",
    "days = 16\n",
    "rain_days = 7\n",
    "result_5 = (rain_rate**rain_days)*((1-rain_rate)**(days-rain_days))*comb(days,rain_days)\n",
    "print(result_5)"
   ]
  },
  {
   "cell_type": "markdown",
   "metadata": {},
   "source": [
    "# Problem 6"
   ]
  },
  {
   "cell_type": "code",
   "execution_count": 74,
   "metadata": {},
   "outputs": [
    {
     "name": "stdout",
     "output_type": "stream",
     "text": [
      "507416.98800284043\n"
     ]
    }
   ],
   "source": [
    "import numpy as np\n",
    "num = 50+1\n",
    "b = 2.682\n",
    "n=np.array(range(num))\n",
    "A = sum(n**b)\n",
    "print(A)"
   ]
  },
  {
   "cell_type": "markdown",
   "metadata": {},
   "source": [
    "# Problem 7"
   ]
  },
  {
   "cell_type": "code",
   "execution_count": 75,
   "metadata": {},
   "outputs": [
    {
     "name": "stdout",
     "output_type": "stream",
     "text": [
      "The result is 0.46819019725023187\n"
     ]
    }
   ],
   "source": [
    "num = 24+1\n",
    "b = 0.893\n",
    "n = np.array(range(num))\n",
    "A = 1/sum(b**n)\n",
    "s=0\n",
    "for index in n:\n",
    "    if(index%2==1):\n",
    "        s = s + A*(b**n[index])\n",
    "print('The result is',s)"
   ]
  },
  {
   "cell_type": "markdown",
   "metadata": {},
   "source": [
    "# Problem 8"
   ]
  },
  {
   "cell_type": "code",
   "execution_count": 78,
   "metadata": {},
   "outputs": [
    {
     "name": "stdout",
     "output_type": "stream",
     "text": [
      "The result is -8.114735740998622\n"
     ]
    }
   ],
   "source": [
    "import math\n",
    "mean = 3.70\n",
    "a = 1.24 \n",
    "b = -2.85\n",
    "index = 0\n",
    "px = []\n",
    "while(index<120):\n",
    "    px.append(a**index*((mean**index)*math.exp(-mean))/math.factorial(index))\n",
    "    index = index+1\n",
    "result_8 = sum(px)+b*mean\n",
    "print('The result is',result_8)"
   ]
  },
  {
   "cell_type": "code",
   "execution_count": null,
   "metadata": {},
   "outputs": [],
   "source": []
  }
 ],
 "metadata": {
  "kernelspec": {
   "display_name": "Python 3",
   "language": "python",
   "name": "python3"
  },
  "language_info": {
   "codemirror_mode": {
    "name": "ipython",
    "version": 3
   },
   "file_extension": ".py",
   "mimetype": "text/x-python",
   "name": "python",
   "nbconvert_exporter": "python",
   "pygments_lexer": "ipython3",
   "version": "3.6.3"
  }
 },
 "nbformat": 4,
 "nbformat_minor": 2
}
